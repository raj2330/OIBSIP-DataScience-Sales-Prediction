{
 "cells": [
  {
   "cell_type": "markdown",
   "id": "1cb81ba9-7f06-4bb0-aa2b-2a714f4ba9d8",
   "metadata": {},
   "source": [
    "### Task 5: SALES PREDICTION USING PYTHON:"
   ]
  },
  {
   "cell_type": "markdown",
   "id": "a6b1d5b3-71ec-4f67-aa86-05669b7ca617",
   "metadata": {},
   "source": [
    "Sales prediction means predicting how much of a product people will buy based on factors such as the amount we spend to advertise our product, the segment of people we advertise for, or the platform we are advertising on about our product. "
   ]
  },
  {
   "cell_type": "code",
   "execution_count": 1,
   "id": "1a3ded04-fa0c-4bce-8e5e-c7f83cfd6b5b",
   "metadata": {},
   "outputs": [],
   "source": [
    "#Importing all the necessary libraries: \n",
    "\n",
    "import numpy as np\n",
    "import pandas as pd\n",
    "import seaborn as sns\n",
    "import matplotlib.pyplot as plt\n",
    "from sklearn.model_selection import train_test_split\n",
    "from sklearn.linear_model import LinearRegression\n",
    "from sklearn.metrics import mean_squared_error, mean_absolute_error\n",
    "from sklearn.tree import DecisionTreeRegressor\n",
    "from sklearn.metrics import r2_score\n",
    "import warnings\n",
    "warnings.filterwarnings('ignore')"
   ]
  },
  {
   "cell_type": "code",
   "execution_count": 2,
   "id": "b9412872-0960-4a70-a702-711961a8541b",
   "metadata": {},
   "outputs": [],
   "source": [
    "data = pd.read_csv(\"ads.csv\")  #Reading the dataset"
   ]
  },
  {
   "cell_type": "code",
   "execution_count": 3,
   "id": "361f987d-343c-46b8-9d7e-0752dbc8a09d",
   "metadata": {},
   "outputs": [
    {
     "name": "stdout",
     "output_type": "stream",
     "text": [
      "      TV  Radio  Newspaper  Sales\n",
      "0  230.1   37.8       69.2   22.1\n",
      "1   44.5   39.3       45.1   10.4\n",
      "2   17.2   45.9       69.3   12.0\n",
      "3  151.5   41.3       58.5   16.5\n",
      "4  180.8   10.8       58.4   17.9\n"
     ]
    }
   ],
   "source": [
    "print(data.head(5))"
   ]
  },
  {
   "cell_type": "code",
   "execution_count": 4,
   "id": "c1c72588-7cf6-4d08-b66e-6130cb2076ed",
   "metadata": {},
   "outputs": [
    {
     "data": {
      "text/html": [
       "<div>\n",
       "<style scoped>\n",
       "    .dataframe tbody tr th:only-of-type {\n",
       "        vertical-align: middle;\n",
       "    }\n",
       "\n",
       "    .dataframe tbody tr th {\n",
       "        vertical-align: top;\n",
       "    }\n",
       "\n",
       "    .dataframe thead th {\n",
       "        text-align: right;\n",
       "    }\n",
       "</style>\n",
       "<table border=\"1\" class=\"dataframe\">\n",
       "  <thead>\n",
       "    <tr style=\"text-align: right;\">\n",
       "      <th></th>\n",
       "      <th>TV</th>\n",
       "      <th>Radio</th>\n",
       "      <th>Newspaper</th>\n",
       "      <th>Sales</th>\n",
       "    </tr>\n",
       "  </thead>\n",
       "  <tbody>\n",
       "    <tr>\n",
       "      <th>count</th>\n",
       "      <td>200.000000</td>\n",
       "      <td>200.000000</td>\n",
       "      <td>200.000000</td>\n",
       "      <td>200.000000</td>\n",
       "    </tr>\n",
       "    <tr>\n",
       "      <th>mean</th>\n",
       "      <td>147.042500</td>\n",
       "      <td>23.264000</td>\n",
       "      <td>30.554000</td>\n",
       "      <td>15.130500</td>\n",
       "    </tr>\n",
       "    <tr>\n",
       "      <th>std</th>\n",
       "      <td>85.854236</td>\n",
       "      <td>14.846809</td>\n",
       "      <td>21.778621</td>\n",
       "      <td>5.283892</td>\n",
       "    </tr>\n",
       "    <tr>\n",
       "      <th>min</th>\n",
       "      <td>0.700000</td>\n",
       "      <td>0.000000</td>\n",
       "      <td>0.300000</td>\n",
       "      <td>1.600000</td>\n",
       "    </tr>\n",
       "    <tr>\n",
       "      <th>25%</th>\n",
       "      <td>74.375000</td>\n",
       "      <td>9.975000</td>\n",
       "      <td>12.750000</td>\n",
       "      <td>11.000000</td>\n",
       "    </tr>\n",
       "    <tr>\n",
       "      <th>50%</th>\n",
       "      <td>149.750000</td>\n",
       "      <td>22.900000</td>\n",
       "      <td>25.750000</td>\n",
       "      <td>16.000000</td>\n",
       "    </tr>\n",
       "    <tr>\n",
       "      <th>75%</th>\n",
       "      <td>218.825000</td>\n",
       "      <td>36.525000</td>\n",
       "      <td>45.100000</td>\n",
       "      <td>19.050000</td>\n",
       "    </tr>\n",
       "    <tr>\n",
       "      <th>max</th>\n",
       "      <td>296.400000</td>\n",
       "      <td>49.600000</td>\n",
       "      <td>114.000000</td>\n",
       "      <td>27.000000</td>\n",
       "    </tr>\n",
       "  </tbody>\n",
       "</table>\n",
       "</div>"
      ],
      "text/plain": [
       "               TV       Radio   Newspaper       Sales\n",
       "count  200.000000  200.000000  200.000000  200.000000\n",
       "mean   147.042500   23.264000   30.554000   15.130500\n",
       "std     85.854236   14.846809   21.778621    5.283892\n",
       "min      0.700000    0.000000    0.300000    1.600000\n",
       "25%     74.375000    9.975000   12.750000   11.000000\n",
       "50%    149.750000   22.900000   25.750000   16.000000\n",
       "75%    218.825000   36.525000   45.100000   19.050000\n",
       "max    296.400000   49.600000  114.000000   27.000000"
      ]
     },
     "execution_count": 4,
     "metadata": {},
     "output_type": "execute_result"
    }
   ],
   "source": [
    "data.describe()"
   ]
  },
  {
   "cell_type": "code",
   "execution_count": 5,
   "id": "340c6a0a-2c0d-4b24-8153-c537c6d745bc",
   "metadata": {},
   "outputs": [
    {
     "name": "stdout",
     "output_type": "stream",
     "text": [
      "<class 'pandas.core.frame.DataFrame'>\n",
      "RangeIndex: 200 entries, 0 to 199\n",
      "Data columns (total 4 columns):\n",
      " #   Column     Non-Null Count  Dtype  \n",
      "---  ------     --------------  -----  \n",
      " 0   TV         200 non-null    float64\n",
      " 1   Radio      200 non-null    float64\n",
      " 2   Newspaper  200 non-null    float64\n",
      " 3   Sales      200 non-null    float64\n",
      "dtypes: float64(4)\n",
      "memory usage: 6.4 KB\n"
     ]
    }
   ],
   "source": [
    "data.info()"
   ]
  },
  {
   "cell_type": "code",
   "execution_count": 6,
   "id": "61171d64-22a2-456c-9df7-5bf67a7e46e9",
   "metadata": {},
   "outputs": [
    {
     "data": {
      "text/plain": [
       "(200, 4)"
      ]
     },
     "execution_count": 6,
     "metadata": {},
     "output_type": "execute_result"
    }
   ],
   "source": [
    "data.shape"
   ]
  },
  {
   "cell_type": "code",
   "execution_count": 7,
   "id": "7a694591-8345-4fb5-8d84-1775d0c45004",
   "metadata": {},
   "outputs": [
    {
     "data": {
      "text/plain": [
       "TV           0\n",
       "Radio        0\n",
       "Newspaper    0\n",
       "Sales        0\n",
       "dtype: int64"
      ]
     },
     "execution_count": 7,
     "metadata": {},
     "output_type": "execute_result"
    }
   ],
   "source": [
    " data.isnull().sum()  #checking whether this dataset contains any missing values or not"
   ]
  },
  {
   "cell_type": "markdown",
   "id": "3604a638-5807-4bc4-83e4-66ae7cc3b0df",
   "metadata": {},
   "source": [
    "### Summary of the above data :\n",
    "\n",
    "Average expenditure is highest on TV as the mean expense on TV ads is 147.04 units.\n",
    "Whereas, Average expenditure is lowest on Radio as the mean expense on Radio is 23.26 units.\n",
    "Max sale is 27 and Min sale is 1.6."
   ]
  },
  {
   "cell_type": "markdown",
   "id": "bcbbff69-e512-4a9a-a354-f894a31de507",
   "metadata": {},
   "source": [
    "### Visualising the relationship: "
   ]
  },
  {
   "cell_type": "code",
   "execution_count": 8,
   "id": "e97a613f-a0ec-4eda-817d-0d53ddf71afa",
   "metadata": {},
   "outputs": [
    {
     "data": {
      "image/png": "[encoded data removed]",
      "text/plain": [
       "<Figure size 900x300 with 3 Axes>"
      ]
     },
     "metadata": {},
     "output_type": "display_data"
    }
   ],
   "source": [
    "sns.pairplot(data, x_vars=['TV', 'Newspaper', 'Radio'], y_vars='Sales', height=3, aspect=1, kind='scatter')\n",
    "plt.show()"
   ]
  },
  {
   "cell_type": "code",
   "execution_count": 9,
   "id": "ab791389-8768-47cb-ad25-b31c95ba9e38",
   "metadata": {},
   "outputs": [
    {
     "data": {
      "image/png": "[encoded data removed]",
      "text/plain": [
       "<Figure size 600x600 with 3 Axes>"
      ]
     },
     "metadata": {},
     "output_type": "display_data"
    }
   ],
   "source": [
    "fig, axis = plt.subplots(3, figsize = (6,6))\n",
    "plt1 = sns.boxplot(data['TV'], ax = axis[0])\n",
    "plt2 = sns.boxplot(data['Radio'], ax = axis[1])\n",
    "plt3 = sns.boxplot(data['Newspaper'], ax = axis[2])\n",
    "plt.tight_layout()\n"
   ]
  },
  {
   "cell_type": "code",
   "execution_count": 10,
   "id": "4a35f17c-8263-41fa-b27d-ecbc025b3e58",
   "metadata": {},
   "outputs": [
    {
     "data": {
      "image/png": "[encoded data removed]",
      "text/plain": [
       "<Figure size 640x480 with 1 Axes>"
      ]
     },
     "metadata": {},
     "output_type": "display_data"
    }
   ],
   "source": [
    "sns.boxplot(data['Sales'])\n",
    "plt.show()     "
   ]
  },
  {
   "cell_type": "markdown",
   "id": "cdf041d6-ad6d-441b-976d-4819a7211786",
   "metadata": {},
   "source": [
    "### Correlation of all columns with the sales column:"
   ]
  },
  {
   "cell_type": "code",
   "execution_count": 11,
   "id": "1f58c1ec-8ca7-42e8-b62f-3bde719e2852",
   "metadata": {},
   "outputs": [
    {
     "data": {
      "image/png": "[encoded data removed]",
      "text/plain": [
       "<Figure size 900x500 with 2 Axes>"
      ]
     },
     "metadata": {},
     "output_type": "display_data"
    }
   ],
   "source": [
    "corr= data.corr() #Correlation Heatmap\n",
    "\n",
    "plt.figure(figsize= (9,5))\n",
    "sns.heatmap(data.corr(),annot=True)\n",
    "plt.show()"
   ]
  },
  {
   "cell_type": "code",
   "execution_count": 12,
   "id": "4f7ee160-0d12-4b85-a36f-78b3896f0563",
   "metadata": {},
   "outputs": [
    {
     "name": "stdout",
     "output_type": "stream",
     "text": [
      "                 TV     Radio  Newspaper     Sales\n",
      "TV         1.000000  0.054809   0.056648  0.901208\n",
      "Radio      0.054809  1.000000   0.354104  0.349631\n",
      "Newspaper  0.056648  0.354104   1.000000  0.157960\n",
      "Sales      0.901208  0.349631   0.157960  1.000000\n"
     ]
    }
   ],
   "source": [
    "print(corr)\n",
    "\n",
    "#Sales is highly correlated with tv"
   ]
  },
  {
   "cell_type": "markdown",
   "id": "9a3f28d6-22d8-45e3-b13b-4a5798ddf277",
   "metadata": {},
   "source": [
    "### Training our model:"
   ]
  },
  {
   "cell_type": "code",
   "execution_count": 13,
   "id": "17429fd1-a6a0-462c-b1a2-7a952eae1329",
   "metadata": {},
   "outputs": [],
   "source": [
    "X= data.iloc[:, :-1]"
   ]
  },
  {
   "cell_type": "code",
   "execution_count": 14,
   "id": "4508bae1-3582-425e-9b35-dce6af66c62f",
   "metadata": {},
   "outputs": [
    {
     "data": {
      "text/html": [
       "<div>\n",
       "<style scoped>\n",
       "    .dataframe tbody tr th:only-of-type {\n",
       "        vertical-align: middle;\n",
       "    }\n",
       "\n",
       "    .dataframe tbody tr th {\n",
       "        vertical-align: top;\n",
       "    }\n",
       "\n",
       "    .dataframe thead th {\n",
       "        text-align: right;\n",
       "    }\n",
       "</style>\n",
       "<table border=\"1\" class=\"dataframe\">\n",
       "  <thead>\n",
       "    <tr style=\"text-align: right;\">\n",
       "      <th></th>\n",
       "      <th>TV</th>\n",
       "      <th>Radio</th>\n",
       "      <th>Newspaper</th>\n",
       "    </tr>\n",
       "  </thead>\n",
       "  <tbody>\n",
       "    <tr>\n",
       "      <th>0</th>\n",
       "      <td>230.1</td>\n",
       "      <td>37.8</td>\n",
       "      <td>69.2</td>\n",
       "    </tr>\n",
       "    <tr>\n",
       "      <th>1</th>\n",
       "      <td>44.5</td>\n",
       "      <td>39.3</td>\n",
       "      <td>45.1</td>\n",
       "    </tr>\n",
       "    <tr>\n",
       "      <th>2</th>\n",
       "      <td>17.2</td>\n",
       "      <td>45.9</td>\n",
       "      <td>69.3</td>\n",
       "    </tr>\n",
       "    <tr>\n",
       "      <th>3</th>\n",
       "      <td>151.5</td>\n",
       "      <td>41.3</td>\n",
       "      <td>58.5</td>\n",
       "    </tr>\n",
       "    <tr>\n",
       "      <th>4</th>\n",
       "      <td>180.8</td>\n",
       "      <td>10.8</td>\n",
       "      <td>58.4</td>\n",
       "    </tr>\n",
       "  </tbody>\n",
       "</table>\n",
       "</div>"
      ],
      "text/plain": [
       "      TV  Radio  Newspaper\n",
       "0  230.1   37.8       69.2\n",
       "1   44.5   39.3       45.1\n",
       "2   17.2   45.9       69.3\n",
       "3  151.5   41.3       58.5\n",
       "4  180.8   10.8       58.4"
      ]
     },
     "execution_count": 14,
     "metadata": {},
     "output_type": "execute_result"
    }
   ],
   "source": [
    "X.head()"
   ]
  },
  {
   "cell_type": "code",
   "execution_count": 15,
   "id": "dc1b1759-d61f-46e3-8af9-cac240dd848a",
   "metadata": {},
   "outputs": [],
   "source": [
    "y= data.Sales"
   ]
  },
  {
   "cell_type": "code",
   "execution_count": 16,
   "id": "d64fa445-0139-4021-b705-2e1241eb052a",
   "metadata": {},
   "outputs": [],
   "source": [
    "x_train, x_test, y_train, y_test = train_test_split(X, y, test_size= 0.3, random_state= 100)"
   ]
  },
  {
   "cell_type": "code",
   "execution_count": 17,
   "id": "afe12243-c0b5-40f8-8186-90f9076ef8e9",
   "metadata": {},
   "outputs": [
    {
     "data": {
      "text/plain": [
       "(140, 3)"
      ]
     },
     "execution_count": 17,
     "metadata": {},
     "output_type": "execute_result"
    }
   ],
   "source": [
    "x_train.shape"
   ]
  },
  {
   "cell_type": "code",
   "execution_count": 18,
   "id": "f12cce9e-8b1a-43d5-9aa0-c150e8319400",
   "metadata": {},
   "outputs": [
    {
     "name": "stdout",
     "output_type": "stream",
     "text": [
      "        TV  Radio  Newspaper\n",
      "74   213.4   24.6       13.1\n",
      "3    151.5   41.3       58.5\n",
      "185  205.0   45.1       19.6\n",
      "26   142.9   29.3       12.6\n",
      "90   134.3    4.9        9.3\n",
      "..     ...    ...        ...\n",
      "87   110.7   40.6       63.2\n",
      "103  187.9   17.2       17.9\n",
      "67   139.3   14.5       10.2\n",
      "24    62.3   12.6       18.3\n",
      "8      8.6    2.1        1.0\n",
      "\n",
      "[140 rows x 3 columns]\n"
     ]
    }
   ],
   "source": [
    "print(x_train)"
   ]
  },
  {
   "cell_type": "code",
   "execution_count": 19,
   "id": "1bc6f119-13a3-49e3-8205-8dfbac61cef0",
   "metadata": {},
   "outputs": [
    {
     "data": {
      "text/plain": [
       "(60, 3)"
      ]
     },
     "execution_count": 19,
     "metadata": {},
     "output_type": "execute_result"
    }
   ],
   "source": [
    "x_test.shape"
   ]
  },
  {
   "cell_type": "code",
   "execution_count": 20,
   "id": "0be77a17-5f81-49bb-bc0a-1da74978b2c7",
   "metadata": {},
   "outputs": [
    {
     "name": "stdout",
     "output_type": "stream",
     "text": [
      "        TV  Radio  Newspaper\n",
      "126    7.8   38.9       50.6\n",
      "104  238.2   34.3        5.3\n",
      "99   135.2   41.7       45.9\n",
      "92   217.7   33.5       59.0\n",
      "111  241.7   38.0       23.2\n",
      "167  206.8    5.2       19.4\n",
      "116  139.2   14.3       25.6\n",
      "96   197.6    3.5        5.9\n",
      "52   216.4   41.7       39.6\n",
      "69   216.8   43.9       27.2\n",
      "164  117.2   14.7        5.4\n",
      "124  229.5   32.3       74.2\n",
      "182   56.2    5.7       29.7\n",
      "154  187.8   21.1        9.5\n",
      "125   87.2   11.8       25.9\n",
      "196   94.2    4.9        8.1\n",
      "194  149.7   35.6        6.0\n",
      "177  170.2    7.8       35.2\n",
      "163  163.5   36.8        7.4\n",
      "31   112.9   17.4       38.6\n",
      "11   214.7   24.0        4.0\n",
      "73   129.4    5.7       31.3\n",
      "15   195.4   47.7       52.9\n",
      "41   177.0   33.4       38.7\n",
      "97   184.9   21.0       22.0\n",
      "128  220.3   49.0        3.2\n",
      "133  219.8   33.5       45.1\n",
      "82    75.3   20.3       32.5\n",
      "139  184.9   43.9        1.7\n",
      "123  123.1   34.6       12.4\n",
      "83    68.4   44.5       35.6\n",
      "65    69.0    9.3        0.9\n",
      "151  121.0    8.4       48.7\n",
      "162  188.4   18.1       25.6\n",
      "170   50.0   11.6       18.4\n",
      "77   120.5   28.5       14.2\n",
      "32    97.2    1.5       30.0\n",
      "173  168.4    7.1       12.8\n",
      "174  222.4    3.4       13.1\n",
      "85   193.2   18.4       65.7\n",
      "168  215.4   23.6       57.6\n",
      "112  175.7   15.4        2.4\n",
      "171  164.5   20.9       47.4\n",
      "181  218.5    5.4       27.4\n",
      "7    120.2   19.6       11.6\n",
      "46    89.7    9.9       35.7\n",
      "75    16.9   43.7       89.4\n",
      "28   248.8   27.1       22.9\n",
      "29    70.6   16.0       40.8\n",
      "195   38.2    3.7       13.8\n",
      "40   202.5   22.3       31.6\n",
      "153  171.3   39.7       37.7\n",
      "115   75.1   35.0       52.7\n",
      "64   131.1   42.8       28.9\n",
      "59   210.7   29.5        9.3\n",
      "1     44.5   39.3       45.1\n",
      "192   17.2    4.1       31.6\n",
      "136   25.6   39.0        9.3\n",
      "152  197.6   23.3       14.2\n",
      "161   85.7   35.8       49.3\n"
     ]
    }
   ],
   "source": [
    "print(x_test)"
   ]
  },
  {
   "cell_type": "code",
   "execution_count": 21,
   "id": "154f8cf7-eaf0-4e0a-a9c0-7edab5a72c39",
   "metadata": {},
   "outputs": [
    {
     "name": "stdout",
     "output_type": "stream",
     "text": [
      "74     17.0\n",
      "3      16.5\n",
      "185    22.6\n",
      "26     15.0\n",
      "90     14.0\n",
      "       ... \n",
      "87     16.0\n",
      "103    19.7\n",
      "67     13.4\n",
      "24      9.7\n",
      "8       4.8\n",
      "Name: Sales, Length: 140, dtype: float64\n"
     ]
    }
   ],
   "source": [
    "print(y_train)"
   ]
  },
  {
   "cell_type": "code",
   "execution_count": 22,
   "id": "2d031dea-d8f9-4cf4-a35c-6c77a96f2a63",
   "metadata": {},
   "outputs": [
    {
     "name": "stdout",
     "output_type": "stream",
     "text": [
      "126     6.6\n",
      "104    20.7\n",
      "99     17.2\n",
      "92     19.4\n",
      "111    21.8\n",
      "167    17.2\n",
      "116    12.2\n",
      "96     16.7\n",
      "52     22.6\n",
      "69     22.3\n",
      "164    11.9\n",
      "124    19.7\n",
      "182     8.7\n",
      "154    20.6\n",
      "125    10.6\n",
      "196    14.0\n",
      "194    17.3\n",
      "177    16.7\n",
      "163    18.0\n",
      "31     11.9\n",
      "11     17.4\n",
      "73     11.0\n",
      "15     22.4\n",
      "41     17.1\n",
      "97     20.5\n",
      "128    24.7\n",
      "133    19.6\n",
      "82     11.3\n",
      "139    20.7\n",
      "123    15.2\n",
      "83     13.6\n",
      "65     11.3\n",
      "151    11.6\n",
      "162    19.9\n",
      "170     8.4\n",
      "77     14.2\n",
      "32     13.2\n",
      "173    16.7\n",
      "174    16.5\n",
      "85     20.2\n",
      "168    17.1\n",
      "112    17.1\n",
      "171    17.5\n",
      "181    17.2\n",
      "7      13.2\n",
      "46     10.6\n",
      "75      8.7\n",
      "28     18.9\n",
      "29     10.5\n",
      "195     7.6\n",
      "40     16.6\n",
      "153    16.0\n",
      "115    12.6\n",
      "64     16.0\n",
      "59     18.4\n",
      "1      10.4\n",
      "192     5.9\n",
      "136     9.5\n",
      "152    16.6\n",
      "161    13.3\n",
      "Name: Sales, dtype: float64\n"
     ]
    }
   ],
   "source": [
    "print(y_test)"
   ]
  },
  {
   "cell_type": "markdown",
   "id": "d4546b40-992f-4f62-947e-58d52d50b0da",
   "metadata": {},
   "source": [
    "### Linear Regression Model: "
   ]
  },
  {
   "cell_type": "code",
   "execution_count": 23,
   "id": "092b80e1-2832-4050-8f46-279cd3e9c166",
   "metadata": {},
   "outputs": [
    {
     "data": {
      "text/html": [
       "<style>#sk-container-id-1 {color: black;}#sk-container-id-1 pre{padding: 0;}#sk-container-id-1 div.sk-toggleable {background-color: white;}#sk-container-id-1 label.sk-toggleable__label {cursor: pointer;display: block;width: 100%;margin-bottom: 0;padding: 0.3em;box-sizing: border-box;text-align: center;}#sk-container-id-1 label.sk-toggleable__label-arrow:before {content: \"▸\";float: left;margin-right: 0.25em;color: #696969;}#sk-container-id-1 label.sk-toggleable__label-arrow:hover:before {color: black;}#sk-container-id-1 div.sk-estimator:hover label.sk-toggleable__label-arrow:before {color: black;}#sk-container-id-1 div.sk-toggleable__content {max-height: 0;max-width: 0;overflow: hidden;text-align: left;background-color: #f0f8ff;}#sk-container-id-1 div.sk-toggleable__content pre {margin: 0.2em;color: black;border-radius: 0.25em;background-color: #f0f8ff;}#sk-container-id-1 input.sk-toggleable__control:checked~div.sk-toggleable__content {max-height: 200px;max-width: 100%;overflow: auto;}#sk-container-id-1 input.sk-toggleable__control:checked~label.sk-toggleable__label-arrow:before {content: \"▾\";}#sk-container-id-1 div.sk-estimator input.sk-toggleable__control:checked~label.sk-toggleable__label {background-color: #d4ebff;}#sk-container-id-1 div.sk-label input.sk-toggleable__control:checked~label.sk-toggleable__label {background-color: #d4ebff;}#sk-container-id-1 input.sk-hidden--visually {border: 0;clip: rect(1px 1px 1px 1px);clip: rect(1px, 1px, 1px, 1px);height: 1px;margin: -1px;overflow: hidden;padding: 0;position: absolute;width: 1px;}#sk-container-id-1 div.sk-estimator {font-family: monospace;background-color: #f0f8ff;border: 1px dotted black;border-radius: 0.25em;box-sizing: border-box;margin-bottom: 0.5em;}#sk-container-id-1 div.sk-estimator:hover {background-color: #d4ebff;}#sk-container-id-1 div.sk-parallel-item::after {content: \"\";width: 100%;border-bottom: 1px solid gray;flex-grow: 1;}#sk-container-id-1 div.sk-label:hover label.sk-toggleable__label {background-color: #d4ebff;}#sk-container-id-1 div.sk-serial::before {content: \"\";position: absolute;border-left: 1px solid gray;box-sizing: border-box;top: 0;bottom: 0;left: 50%;z-index: 0;}#sk-container-id-1 div.sk-serial {display: flex;flex-direction: column;align-items: center;background-color: white;padding-right: 0.2em;padding-left: 0.2em;position: relative;}#sk-container-id-1 div.sk-item {position: relative;z-index: 1;}#sk-container-id-1 div.sk-parallel {display: flex;align-items: stretch;justify-content: center;background-color: white;position: relative;}#sk-container-id-1 div.sk-item::before, #sk-container-id-1 div.sk-parallel-item::before {content: \"\";position: absolute;border-left: 1px solid gray;box-sizing: border-box;top: 0;bottom: 0;left: 50%;z-index: -1;}#sk-container-id-1 div.sk-parallel-item {display: flex;flex-direction: column;z-index: 1;position: relative;background-color: white;}#sk-container-id-1 div.sk-parallel-item:first-child::after {align-self: flex-end;width: 50%;}#sk-container-id-1 div.sk-parallel-item:last-child::after {align-self: flex-start;width: 50%;}#sk-container-id-1 div.sk-parallel-item:only-child::after {width: 0;}#sk-container-id-1 div.sk-dashed-wrapped {border: 1px dashed gray;margin: 0 0.4em 0.5em 0.4em;box-sizing: border-box;padding-bottom: 0.4em;background-color: white;}#sk-container-id-1 div.sk-label label {font-family: monospace;font-weight: bold;display: inline-block;line-height: 1.2em;}#sk-container-id-1 div.sk-label-container {text-align: center;}#sk-container-id-1 div.sk-container {/* jupyter's `normalize.less` sets `[hidden] { display: none; }` but bootstrap.min.css set `[hidden] { display: none !important; }` so we also need the `!important` here to be able to override the default hidden behavior on the sphinx rendered scikit-learn.org. See: https://github.com/scikit-learn/scikit-learn/issues/21755 */display: inline-block !important;position: relative;}#sk-container-id-1 div.sk-text-repr-fallback {display: none;}</style><div id=\"sk-container-id-1\" class=\"sk-top-container\"><div class=\"sk-text-repr-fallback\"><pre>LinearRegression()</pre><b>In a Jupyter environment, please rerun this cell to show the HTML representation or trust the notebook. <br />On GitHub, the HTML representation is unable to render, please try loading this page with nbviewer.org.</b></div><div class=\"sk-container\" hidden><div class=\"sk-item\"><div class=\"sk-estimator sk-toggleable\"><input class=\"sk-toggleable__control sk-hidden--visually\" id=\"sk-estimator-id-1\" type=\"checkbox\" checked><label for=\"sk-estimator-id-1\" class=\"sk-toggleable__label sk-toggleable__label-arrow\">LinearRegression</label><div class=\"sk-toggleable__content\"><pre>LinearRegression()</pre></div></div></div></div></div>"
      ],
      "text/plain": [
       "LinearRegression()"
      ]
     },
     "execution_count": 23,
     "metadata": {},
     "output_type": "execute_result"
    }
   ],
   "source": [
    "model=LinearRegression()\n",
    "model.fit(x_train,y_train)"
   ]
  },
  {
   "cell_type": "code",
   "execution_count": 24,
   "id": "2b1dba54-9d71-4f16-989a-1528551a9608",
   "metadata": {},
   "outputs": [
    {
     "data": {
      "text/plain": [
       "array([0.05382911, 0.11001224, 0.00628995])"
      ]
     },
     "execution_count": 24,
     "metadata": {},
     "output_type": "execute_result"
    }
   ],
   "source": [
    "model.coef_"
   ]
  },
  {
   "cell_type": "code",
   "execution_count": 25,
   "id": "2188d5fe-4314-4e67-a2a7-b7ab95eb3874",
   "metadata": {},
   "outputs": [
    {
     "data": {
      "text/plain": [
       "4.334595861728431"
      ]
     },
     "execution_count": 25,
     "metadata": {},
     "output_type": "execute_result"
    }
   ],
   "source": [
    "model.intercept_"
   ]
  },
  {
   "cell_type": "code",
   "execution_count": 26,
   "id": "6839171c-83f2-41a9-9beb-38f49ec64e34",
   "metadata": {},
   "outputs": [],
   "source": [
    "y_train_pred= model.predict(x_train)"
   ]
  },
  {
   "cell_type": "code",
   "execution_count": 27,
   "id": "a4a54697-0e6d-4dd9-bcc0-6e0830822d00",
   "metadata": {},
   "outputs": [],
   "source": [
    "y_test_pred= model.predict(x_test)"
   ]
  },
  {
   "cell_type": "code",
   "execution_count": 28,
   "id": "1ce9af41-3e5c-4324-a02f-ef5ff3cdb73a",
   "metadata": {},
   "outputs": [
    {
     "name": "stdout",
     "output_type": "stream",
     "text": [
      "TRAIN DATA\n",
      "rmse 1.67\n",
      "r2_score 0.91\n"
     ]
    }
   ],
   "source": [
    "print(\"TRAIN DATA\") #evaluation\n",
    "\n",
    "print(\"rmse\", round(np.sqrt(mean_squared_error(y_train, y_train_pred)),2))\n",
    "print(\"r2_score\", round(r2_score(y_train, y_train_pred),3))"
   ]
  },
  {
   "cell_type": "code",
   "execution_count": 29,
   "id": "ba7f8fdc-e783-4106-ba8f-a8d9f7c1693f",
   "metadata": {},
   "outputs": [
    {
     "name": "stdout",
     "output_type": "stream",
     "text": [
      "Test Data\n",
      "rmse 1.62\n",
      "r2_score 0.866\n"
     ]
    }
   ],
   "source": [
    "print(\"Test Data\")\n",
    "\n",
    "print(\"rmse\", round(np.sqrt(mean_squared_error(y_test, y_test_pred)),2))\n",
    "print(\"r2_score\", round(r2_score(y_test, y_test_pred),3))"
   ]
  },
  {
   "cell_type": "code",
   "execution_count": 30,
   "id": "a4c3ac38-18a0-4198-b638-019dd2a9ad7d",
   "metadata": {},
   "outputs": [
    {
     "name": "stdout",
     "output_type": "stream",
     "text": [
      "[8.96314336]\n"
     ]
    }
   ],
   "source": [
    "ft= [[20,30,40]] #features of TV, Radio and Newspaper\n",
    "print(model.predict(ft))"
   ]
  },
  {
   "cell_type": "markdown",
   "id": "1ec242b3-c1f3-41ff-b3f7-0e8ba650e3b1",
   "metadata": {},
   "source": [
    "### Decision Tree Regressor Model: "
   ]
  },
  {
   "cell_type": "code",
   "execution_count": 31,
   "id": "e7c5fa7a-1e1e-41ca-89cc-8510fa47cebb",
   "metadata": {},
   "outputs": [
    {
     "data": {
      "text/html": [
       "<style>#sk-container-id-2 {color: black;}#sk-container-id-2 pre{padding: 0;}#sk-container-id-2 div.sk-toggleable {background-color: white;}#sk-container-id-2 label.sk-toggleable__label {cursor: pointer;display: block;width: 100%;margin-bottom: 0;padding: 0.3em;box-sizing: border-box;text-align: center;}#sk-container-id-2 label.sk-toggleable__label-arrow:before {content: \"▸\";float: left;margin-right: 0.25em;color: #696969;}#sk-container-id-2 label.sk-toggleable__label-arrow:hover:before {color: black;}#sk-container-id-2 div.sk-estimator:hover label.sk-toggleable__label-arrow:before {color: black;}#sk-container-id-2 div.sk-toggleable__content {max-height: 0;max-width: 0;overflow: hidden;text-align: left;background-color: #f0f8ff;}#sk-container-id-2 div.sk-toggleable__content pre {margin: 0.2em;color: black;border-radius: 0.25em;background-color: #f0f8ff;}#sk-container-id-2 input.sk-toggleable__control:checked~div.sk-toggleable__content {max-height: 200px;max-width: 100%;overflow: auto;}#sk-container-id-2 input.sk-toggleable__control:checked~label.sk-toggleable__label-arrow:before {content: \"▾\";}#sk-container-id-2 div.sk-estimator input.sk-toggleable__control:checked~label.sk-toggleable__label {background-color: #d4ebff;}#sk-container-id-2 div.sk-label input.sk-toggleable__control:checked~label.sk-toggleable__label {background-color: #d4ebff;}#sk-container-id-2 input.sk-hidden--visually {border: 0;clip: rect(1px 1px 1px 1px);clip: rect(1px, 1px, 1px, 1px);height: 1px;margin: -1px;overflow: hidden;padding: 0;position: absolute;width: 1px;}#sk-container-id-2 div.sk-estimator {font-family: monospace;background-color: #f0f8ff;border: 1px dotted black;border-radius: 0.25em;box-sizing: border-box;margin-bottom: 0.5em;}#sk-container-id-2 div.sk-estimator:hover {background-color: #d4ebff;}#sk-container-id-2 div.sk-parallel-item::after {content: \"\";width: 100%;border-bottom: 1px solid gray;flex-grow: 1;}#sk-container-id-2 div.sk-label:hover label.sk-toggleable__label {background-color: #d4ebff;}#sk-container-id-2 div.sk-serial::before {content: \"\";position: absolute;border-left: 1px solid gray;box-sizing: border-box;top: 0;bottom: 0;left: 50%;z-index: 0;}#sk-container-id-2 div.sk-serial {display: flex;flex-direction: column;align-items: center;background-color: white;padding-right: 0.2em;padding-left: 0.2em;position: relative;}#sk-container-id-2 div.sk-item {position: relative;z-index: 1;}#sk-container-id-2 div.sk-parallel {display: flex;align-items: stretch;justify-content: center;background-color: white;position: relative;}#sk-container-id-2 div.sk-item::before, #sk-container-id-2 div.sk-parallel-item::before {content: \"\";position: absolute;border-left: 1px solid gray;box-sizing: border-box;top: 0;bottom: 0;left: 50%;z-index: -1;}#sk-container-id-2 div.sk-parallel-item {display: flex;flex-direction: column;z-index: 1;position: relative;background-color: white;}#sk-container-id-2 div.sk-parallel-item:first-child::after {align-self: flex-end;width: 50%;}#sk-container-id-2 div.sk-parallel-item:last-child::after {align-self: flex-start;width: 50%;}#sk-container-id-2 div.sk-parallel-item:only-child::after {width: 0;}#sk-container-id-2 div.sk-dashed-wrapped {border: 1px dashed gray;margin: 0 0.4em 0.5em 0.4em;box-sizing: border-box;padding-bottom: 0.4em;background-color: white;}#sk-container-id-2 div.sk-label label {font-family: monospace;font-weight: bold;display: inline-block;line-height: 1.2em;}#sk-container-id-2 div.sk-label-container {text-align: center;}#sk-container-id-2 div.sk-container {/* jupyter's `normalize.less` sets `[hidden] { display: none; }` but bootstrap.min.css set `[hidden] { display: none !important; }` so we also need the `!important` here to be able to override the default hidden behavior on the sphinx rendered scikit-learn.org. See: https://github.com/scikit-learn/scikit-learn/issues/21755 */display: inline-block !important;position: relative;}#sk-container-id-2 div.sk-text-repr-fallback {display: none;}</style><div id=\"sk-container-id-2\" class=\"sk-top-container\"><div class=\"sk-text-repr-fallback\"><pre>DecisionTreeRegressor()</pre><b>In a Jupyter environment, please rerun this cell to show the HTML representation or trust the notebook. <br />On GitHub, the HTML representation is unable to render, please try loading this page with nbviewer.org.</b></div><div class=\"sk-container\" hidden><div class=\"sk-item\"><div class=\"sk-estimator sk-toggleable\"><input class=\"sk-toggleable__control sk-hidden--visually\" id=\"sk-estimator-id-2\" type=\"checkbox\" checked><label for=\"sk-estimator-id-2\" class=\"sk-toggleable__label sk-toggleable__label-arrow\">DecisionTreeRegressor</label><div class=\"sk-toggleable__content\"><pre>DecisionTreeRegressor()</pre></div></div></div></div></div>"
      ],
      "text/plain": [
       "DecisionTreeRegressor()"
      ]
     },
     "execution_count": 31,
     "metadata": {},
     "output_type": "execute_result"
    }
   ],
   "source": [
    "dtr= DecisionTreeRegressor()\n",
    "dtr.fit(x_train, y_train)\n"
   ]
  },
  {
   "cell_type": "code",
   "execution_count": 32,
   "id": "f7eab858-d687-4129-900e-622d9717adcb",
   "metadata": {},
   "outputs": [],
   "source": [
    "y_pred = dtr.predict(x_test)"
   ]
  },
  {
   "cell_type": "code",
   "execution_count": 33,
   "id": "b33f0cc8-0e68-4765-9fb9-bf8d9036e2fa",
   "metadata": {},
   "outputs": [
    {
     "name": "stdout",
     "output_type": "stream",
     "text": [
      "accuracy: 87.82037927371232\n"
     ]
    }
   ],
   "source": [
    "r2 = r2_score(y_test, y_pred)\n",
    "mean1 = mean_absolute_error(y_test, y_pred)\n",
    "mean = mean_squared_error(y_test, y_pred, squared=False)\n",
    "\n",
    "print('accuracy:',(r2)*100)\n"
   ]
  },
  {
   "cell_type": "code",
   "execution_count": null,
   "id": "c5ace5bd-8687-4401-96b8-dec0372ef832",
   "metadata": {},
   "outputs": [],
   "source": []
  }
 ],
 "metadata": {
  "kernelspec": {
   "display_name": "Python 3 (ipykernel)",
   "language": "python",
   "name": "python3"
  },
  "language_info": {
   "codemirror_mode": {
    "name": "ipython",
    "version": 3
   },
   "file_extension": ".py",
   "mimetype": "text/x-python",
   "name": "python",
   "nbconvert_exporter": "python",
   "pygments_lexer": "ipython3",
   "version": "3.11.4"
  }
 },
 "nbformat": 4,
 "nbformat_minor": 5
}
